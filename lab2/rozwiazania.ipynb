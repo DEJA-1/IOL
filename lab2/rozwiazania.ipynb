{
 "cells": [
  {
   "cell_type": "markdown",
   "metadata": {},
   "source": [
    "# Zadanie 1"
   ]
  },
  {
   "cell_type": "code",
   "execution_count": 65,
   "metadata": {},
   "outputs": [
    {
     "name": "stdout",
     "output_type": "stream",
     "text": [
      ": )\n"
     ]
    }
   ],
   "source": [
    "print(\":)\")"
   ]
  },
  {
   "cell_type": "markdown",
   "metadata": {},
   "source": [
    "# Zadanie 2"
   ]
  },
  {
   "cell_type": "code",
   "execution_count": 66,
   "metadata": {},
   "outputs": [
    {
     "name": "stdout",
     "output_type": "stream",
     "text": [
      "  __\n",
      "| :D |\n",
      "  ==\n",
      "    \\\n",
      "     \\\n",
      "      \\\n",
      "       \\\n",
      "                             / \\\\  //\\\\\n",
      "              |\\\\___/|      /   \\\\//  \\\\\\\\\n",
      "              /0  0  \\\\__  /    //  | \\\\ \\\\\n",
      "             /     /  \\\\/_/    //   |  \\\\  \\\\\n",
      "             \\@_^_\\@'/   \\\\/_   //    |   \\\\   \\\\\n",
      "             //_^_/     \\\\/_ //     |    \\\\    \\\\\n",
      "          ( //) |        \\\\///      |     \\\\     \\\\\n",
      "        ( / /) _|_ /   )  //       |      \\\\     _\\\\\n",
      "      ( // /) '/,_ _ _/  ( ; -.    |    _ _\\\\.-~        .-~~~^-.\n",
      "    (( / / )) ,-{        _      `-.|.-~-.           .~         `.\n",
      "   (( // / ))  '/\\\\      /                 ~-. _ .-~      .-~^-.  \\\\\n",
      "   (( /// ))      `.   {            }                   /      \\\\  \\\\\n",
      "    (( / ))     .----~-.\\\\        \\\\-'                 .~         \\\\  `. \\\\^-.\n",
      "               ///.----..>        \\\\             _ -~             `.  ^-`  ^-_\n",
      "                 ///-._ _ _ _ _ _ _}^ - - - - ~                     ~-- ,.-~\n",
      "                                                                    /.-~\n"
     ]
    }
   ],
   "source": [
    "import cowsay\n",
    "cowsay.dragon(\":D\")"
   ]
  },
  {
   "cell_type": "markdown",
   "metadata": {},
   "source": [
    "# Zadanie 3"
   ]
  },
  {
   "cell_type": "code",
   "execution_count": 67,
   "metadata": {},
   "outputs": [
    {
     "name": "stdout",
     "output_type": "stream",
     "text": [
      "  ___________________________\n",
      "| Wyniki zapisane do pliku :) |\n",
      "  ===========================\n",
      "                                \\\n",
      "                                 \\\n",
      "                                  \\\n",
      "                                   .--.\n",
      "                                  |o_o |\n",
      "                                  |:_/ |\n",
      "                                 //   \\ \\\n",
      "                                (|     | )\n",
      "                               /'\\_   _/`\\\n",
      "                               \\___)=(___/\n"
     ]
    }
   ],
   "source": [
    "import math\n",
    "\n",
    "sourceFileName = \"dane.txt\"\n",
    "resultFileName = \"wyniki.txt\"\n",
    "\n",
    "def calculateSquare(x):\n",
    "    return math.pow(x, 2)\n",
    "\n",
    "with open(sourceFileName, \"r\") as f:\n",
    "    numbers = [float(line.strip()) for line in f]\n",
    "\n",
    "with open(resultFileName, \"w\") as f:\n",
    "        for number in numbers:\n",
    "            result = calculateSquare(number)\n",
    "            f.write(f\"{number}^2 = {result}\\n\")\n",
    "\n",
    "cowsay.tux(\"Wyniki zapisane do pliku :)\")\n",
    "            "
   ]
  },
  {
   "cell_type": "markdown",
   "metadata": {},
   "source": [
    "# Zadanie 4"
   ]
  },
  {
   "cell_type": "code",
   "execution_count": 68,
   "metadata": {},
   "outputs": [],
   "source": [
    "#\n",
    "# tu umieść kod\n",
    "#"
   ]
  },
  {
   "cell_type": "markdown",
   "metadata": {},
   "source": [
    "# Zadanie 5"
   ]
  },
  {
   "cell_type": "code",
   "execution_count": 69,
   "metadata": {},
   "outputs": [],
   "source": [
    "#\n",
    "# tu umieść kod\n",
    "#"
   ]
  }
 ],
 "metadata": {
  "kernelspec": {
   "display_name": "Python 3 (ipykernel)",
   "language": "python",
   "name": "python3"
  },
  "language_info": {
   "codemirror_mode": {
    "name": "ipython",
    "version": 3
   },
   "file_extension": ".py",
   "mimetype": "text/x-python",
   "name": "python",
   "nbconvert_exporter": "python",
   "pygments_lexer": "ipython3",
   "version": "3.13.2"
  }
 },
 "nbformat": 4,
 "nbformat_minor": 4
}
